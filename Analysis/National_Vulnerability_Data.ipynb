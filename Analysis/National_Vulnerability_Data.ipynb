{
 "cells": [
  {
   "cell_type": "code",
   "execution_count": 7,
   "metadata": {
    "collapsed": true
   },
   "outputs": [],
   "source": [
    "import numpy as np\n",
    "import matplotlib.pyplot as plt\n",
    "import matplotlib\n",
    "matplotlib.rcParams['pdf.fonttype'] = 42\n",
    "matplotlib.rcParams['ps.fonttype'] = 42\n",
    "\n",
    "NUMSTRATS = 10\n",
    "MAX_ITER = 10\n",
    "T = 1000"
   ]
  },
  {
   "cell_type": "code",
   "execution_count": 13,
   "metadata": {
    "collapsed": true
   },
   "outputs": [],
   "source": [
    "directory = '../Data/output/general_sum/'\n",
    "attacker_list = ['BestResponse', 'fplue', 'stackelberg']\n",
    "strategies = ['FPLMaxMin', 'FPLMTD', 'S-OPT', 'RobustRL', 'Exp3', 'BSS-Q', 'P-Exp3', 'S-Exp3', 'FPL+GR']\n",
    "strategies_small = ['FPLMaxMin', 'FPLMTD', 'S-OPT','RobustRL', 'BSS-Q', 'S-Exp3', 'FPL+GR']\n",
    "order_small = [4, 2, 0, 1, 3, 5, 6]\n",
    "attacker = attacker_list[0]\n",
    "\n",
    "for attacker in attacker_list:\n",
    "    \n",
    "    util = np.array([[0.0]*MAX_ITER for i in range(NUMSTRATS)]) \n",
    "    file = directory + '0output_' + attacker +'.txt'\n",
    "    output_file = open(file, \"r\")\n",
    "    for i in range(NUMSTRATS):\n",
    "        output_file.readline()\n",
    "        for iter1 in range(MAX_ITER):\n",
    "            output_file.readline()\n",
    "            y = output_file.readline().split(' ')\n",
    "            y = y[:-1]\n",
    "            y = [float(item) for item in y]\n",
    "            util[i, iter1] = np.sum(y)*MAX_ITER\n",
    "\n",
    "    \n",
    "    util_new = np.array([[0.0]*MAX_ITER for i in range(len(strategies_small))]) \n",
    "    count = 0\n",
    "    for i in range(NUMSTRATS):\n",
    "        if(i in [3, 5, 7]):\n",
    "            continue\n",
    "        util_new[count, :] = util[i, :] - util[3, :]\n",
    "        count += 1\n",
    "    err = np.std(util_new, axis = 1)/np.sqrt(MAX_ITER)\n",
    "    y = np.mean(util_new, axis = 1)\n",
    "    index = range(len(strategies_small))\n",
    "    plt.clf()\n",
    "    plt.bar(index, [y[order_small[i]] for i in range(len(strategies_small))], yerr = [err[order_small[i]] for i in range(len(strategies_small))], color = ['grey', 'grey', 'red', 'red', 'grey', 'grey'])\n",
    "    plt.xticks(index, [strategies_small[order_small[i]] for i in range(len(strategies_small))], fontsize = 10, weight = 'bold', rotation =30)\n",
    "    plt.ylabel(\"Performance\", weight = 'bold')\n",
    "    plt.savefig('../Graphs/nvd_'+attacker+'.eps', format = 'eps', bbox_inches = 'tight', dpi = 1200)\n",
    "    \n",
    "        \n",
    "\n",
    "    \n"
   ]
  },
  {
   "cell_type": "code",
   "execution_count": null,
   "metadata": {
    "collapsed": true
   },
   "outputs": [],
   "source": []
  },
  {
   "cell_type": "code",
   "execution_count": null,
   "metadata": {
    "collapsed": true
   },
   "outputs": [],
   "source": []
  },
  {
   "cell_type": "code",
   "execution_count": null,
   "metadata": {
    "collapsed": true
   },
   "outputs": [],
   "source": []
  }
 ],
 "metadata": {
  "kernelspec": {
   "display_name": "Python 3",
   "language": "python",
   "name": "python3"
  },
  "language_info": {
   "codemirror_mode": {
    "name": "ipython",
    "version": 3
   },
   "file_extension": ".py",
   "mimetype": "text/x-python",
   "name": "python",
   "nbconvert_exporter": "python",
   "pygments_lexer": "ipython3",
   "version": "3.6.10"
  }
 },
 "nbformat": 4,
 "nbformat_minor": 2
}
