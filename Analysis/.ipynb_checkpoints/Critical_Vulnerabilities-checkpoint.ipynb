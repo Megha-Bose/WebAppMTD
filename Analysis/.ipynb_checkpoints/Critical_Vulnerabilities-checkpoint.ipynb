{
 "cells": [
  {
   "cell_type": "code",
   "execution_count": 2,
   "metadata": {
    "collapsed": true
   },
   "outputs": [],
   "source": [
    "import numpy as np\n",
    "import matplotlib.pyplot as plt\n",
    "import matplotlib\n",
    "matplotlib.rcParams['pdf.fonttype'] = 42\n",
    "matplotlib.rcParams['ps.fonttype'] = 42\n",
    "from os import path\n",
    "\n",
    "MAX_ITERS = 50"
   ]
  },
  {
   "cell_type": "code",
   "execution_count": 4,
   "metadata": {},
   "outputs": [
    {
     "data": {
      "image/png": "[encoded data removed]",
      "text/plain": [
       "<Figure size 432x288 with 1 Axes>"
      ]
     },
     "metadata": {},
     "output_type": "display_data"
    }
   ],
   "source": [
    "#b = 2\n",
    "x = ['Greedy', 'Random']\n",
    "y = [290.06, 2.72]\n",
    "yerr = [40.67, 10.45]\n",
    "\n",
    "plt.clf()\n",
    "plt.bar(x, y, yerr = yerr, color = ['blue', 'grey'])\n",
    "plt.ylabel('Improvement', fontsize = 10, weight = 'bold')\n",
    "plt.xticks(fontsize = 10, weight = 'bold')\n",
    "plt.show()\n",
    "plt.savefig(\"../Graphs/CVb2.eps\", format = 'eps', bbox_inches = 'tight', dpi = 1200)\n",
    "\n",
    "#b = 5\n",
    "x = ['Greedy', 'Random']\n",
    "y = [0, 0]\n",
    "yerr = [0, 0]\n",
    "\n",
    "plt.clf()\n",
    "plt.bar(x, y, yerr = yerr, color = ['blue', 'grey'])\n",
    "plt.ylabel('Improvement', fontsize = 10, weight = 'bold')\n",
    "plt.xticks(fontsize = 10, weight = 'bold')\n",
    "plt.show()\n",
    "plt.savefig(\"../Graphs/CVb5.eps\", format = 'eps', bbox_inches = 'tight', dpi = 1200)\n",
    "\n",
    "#b = 10\n",
    "x = ['Greedy', 'Random']\n",
    "y = [0, 0]\n",
    "yerr = [0, 0]\n",
    "\n",
    "plt.clf()\n",
    "plt.bar(x, y, yerr = yerr, color = ['blue', 'grey'])\n",
    "plt.ylabel('Improvement', fontsize = 10, weight = 'bold')\n",
    "plt.xticks(fontsize = 10, weight = 'bold')\n",
    "plt.show()\n",
    "plt.savefig(\"../Graphs/CVb10.eps\", format = 'eps', bbox_inches = 'tight', dpi = 1200)\n",
    "\n",
    "#b = 15\n",
    "x = ['Greedy', 'Random']\n",
    "y = [0, 0]\n",
    "yerr = [0, 0]\n",
    "\n",
    "plt.clf()\n",
    "plt.bar(x, y, yerr = yerr, color = ['blue', 'grey'])\n",
    "plt.ylabel('Improvement', fontsize = 10, weight = 'bold')\n",
    "plt.xticks(fontsize = 10, weight = 'bold')\n",
    "plt.show()\n",
    "plt.savefig(\"../Graphs/CVb15.eps\", format = 'eps', bbox_inches = 'tight', dpi = 1200)\n"
   ]
  },
  {
   "cell_type": "code",
   "execution_count": 7,
   "metadata": {
    "collapsed": true
   },
   "outputs": [],
   "source": []
  },
  {
   "cell_type": "code",
   "execution_count": 8,
   "metadata": {
    "collapsed": true
   },
   "outputs": [],
   "source": []
  },
  {
   "cell_type": "code",
   "execution_count": null,
   "metadata": {
    "collapsed": true
   },
   "outputs": [],
   "source": []
  }
 ],
 "metadata": {
  "kernelspec": {
   "display_name": "Python 3",
   "language": "python",
   "name": "python3"
  },
  "language_info": {
   "codemirror_mode": {
    "name": "ipython",
    "version": 3
   },
   "file_extension": ".py",
   "mimetype": "text/x-python",
   "name": "python",
   "nbconvert_exporter": "python",
   "pygments_lexer": "ipython3",
   "version": "3.6.10"
  }
 },
 "nbformat": 4,
 "nbformat_minor": 2
}
