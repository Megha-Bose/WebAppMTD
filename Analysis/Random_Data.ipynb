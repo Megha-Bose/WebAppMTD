{
 "cells": [
  {
   "cell_type": "code",
   "execution_count": 3,
   "metadata": {
    "collapsed": true
   },
   "outputs": [],
   "source": [
    "import numpy as np\n",
    "import matplotlib.pyplot as plt\n",
    "import matplotlib\n",
    "matplotlib.rcParams['pdf.fonttype'] = 42\n",
    "matplotlib.rcParams['ps.fonttype'] = 42\n",
    "from os import path\n",
    "\n",
    "NUMSTRATS = 10\n",
    "MAX_ITER = 10\n",
    "T = 1000\n",
    "NUM_DATASETS = 20"
   ]
  },
  {
   "cell_type": "code",
   "execution_count": 15,
   "metadata": {},
   "outputs": [],
   "source": [
    "directory = '../Data/output/general_sum/'\n",
    "attacker_list = ['BestResponse', 'fplue', 'stackelberg']\n",
    "strategies = ['FPLMaxMin', 'FPLMTD', 'S-OPT', 'RobustRL', 'Exp3', 'BSS-Q', 'P-Exp3', 'S-Exp3', 'FPL+GR']\n",
    "strategies_small = ['FPLMaxMin', 'FPLMTD', 'S-OPT', 'RobustRL', 'BSS-Q', 'S-Exp3', 'FPL+GR']\n",
    "order_small = [4, 2, 0, 1, 3, 5, 6]\n",
    "\n",
    "for attacker in attacker_list:\n",
    "    util = np.array([[0.0]*NUM_DATASETS for i in range(NUMSTRATS)])\n",
    "    for dataset_num in range(NUM_DATASETS): \n",
    "        file = directory + str(dataset_num+1) +'overall_out_' + attacker +'.txt'\n",
    "        if(path.isfile(file)):    \n",
    "            output_file = open(file, \"r\")\n",
    "            data = output_file.readlines()\n",
    "            for i in range(NUMSTRATS):\n",
    "                util[i, dataset_num] = float(data[32+i].split(' ')[0])\n",
    "        else:\n",
    "            util[:, dataset_num] = np.NaN\n",
    "\n",
    "    util_new = np.array([[0.0]*NUM_DATASETS for i in range(len(strategies_small))]) \n",
    "    count = 0\n",
    "    for i in range(NUMSTRATS):\n",
    "        if(i in [3, 5, 7]):\n",
    "            continue\n",
    "        util_new[count, :] = util[i, :] - util[3, :]\n",
    "        count += 1\n",
    "\n",
    "    # print(util_new)\n",
    "    err = [0.0]*len(strategies_small)\n",
    "    for i in range(len(strategies_small)):\n",
    "        err[i] = np.nanstd(util_new[i, :])/np.sqrt(np.count_nonzero(np.isnan(util_new[i, :])))\n",
    "\n",
    "    y = np.nanmean(util_new, axis = 1)\n",
    "    index = range(len(strategies_small))\n",
    "    plt.clf()\n",
    "    plt.bar(index, [y[order_small[i]] for i in range(len(strategies_small))], yerr = [err[order_small[i]] for i in range(len(strategies_small))], color = ['grey', 'grey', 'red', 'red', 'grey', 'grey'])\n",
    "    plt.xticks(index, [strategies_small[order_small[i]] for i in range(len(strategies_small))], fontsize = 10, weight = 'bold', rotation =30)  \n",
    "    plt.savefig('../Graphs/generalsum_'+attacker+'.eps', format = 'eps', bbox_inches = 'tight', dpi = 1200)\n",
    "    \n"
   ]
  },
  {
   "cell_type": "code",
   "execution_count": 16,
   "metadata": {
    "collapsed": true
   },
   "outputs": [],
   "source": [
    "directory = '../Data/output/zero_sum/'\n",
    "attacker_list = ['BestResponse', 'fplue', 'stackelberg']\n",
    "strategies = ['FPLMaxMin', 'FPLMTD', 'S-OPT', 'RobustRL', 'Exp3', 'BSS-Q', 'P-Exp3', 'S-Exp3', 'FPL+GR']\n",
    "strategies_small = ['FPLMaxMin', 'FPLMTD', 'S-OPT', 'RobustRL', 'BSS-Q', 'S-Exp3', 'FPL+GR']\n",
    "order_small = [4, 2, 0, 1, 3, 5, 6]\n",
    "\n",
    "for attacker in attacker_list:\n",
    "    util = np.array([[0.0]*NUM_DATASETS for i in range(NUMSTRATS)])\n",
    "    for dataset_num in range(NUM_DATASETS): \n",
    "        file = directory + str(dataset_num+1) +'overall_out_' + attacker +'.txt'\n",
    "        if(path.isfile(file)):    \n",
    "            output_file = open(file, \"r\")\n",
    "            data = output_file.readlines()\n",
    "            for i in range(NUMSTRATS):\n",
    "                util[i, dataset_num] = float(data[32+i].split(' ')[0])\n",
    "        else:\n",
    "            util[:, dataset_num] = np.NaN\n",
    "\n",
    "    util_new = np.array([[0.0]*NUM_DATASETS for i in range(len(strategies_small))]) \n",
    "    count = 0\n",
    "    for i in range(NUMSTRATS):\n",
    "        if(i in [3, 5, 7]):\n",
    "            continue\n",
    "        util_new[count, :] = util[i, :] - util[3, :]\n",
    "        count += 1\n",
    "\n",
    "    # print(util_new)\n",
    "    err = [0.0]*len(strategies_small)\n",
    "    for i in range(len(strategies_small)):\n",
    "        err[i] = np.nanstd(util_new[i, :])/np.sqrt(np.count_nonzero(np.isnan(util_new[i, :])))\n",
    "\n",
    "    y = np.nanmean(util_new, axis = 1)\n",
    "    index = range(len(strategies_small))\n",
    "    plt.clf()\n",
    "    plt.bar(index, [y[order_small[i]] for i in range(len(strategies_small))], yerr = [err[order_small[i]] for i in range(len(strategies_small))], color = ['grey', 'grey', 'red', 'red', 'grey', 'grey'])\n",
    "    plt.xticks(index, [strategies_small[order_small[i]] for i in range(len(strategies_small))], fontsize = 10, weight = 'bold', rotation =30)  \n",
    "    plt.savefig('../Graphs/zerosum_'+attacker+'.eps', format = 'eps', bbox_inches = 'tight', dpi = 1200)"
   ]
  },
  {
   "cell_type": "code",
   "execution_count": null,
   "metadata": {
    "collapsed": true
   },
   "outputs": [],
   "source": []
  }
 ],
 "metadata": {
  "kernelspec": {
   "display_name": "Python 3",
   "language": "python",
   "name": "python3"
  },
  "language_info": {
   "codemirror_mode": {
    "name": "ipython",
    "version": 3
   },
   "file_extension": ".py",
   "mimetype": "text/x-python",
   "name": "python",
   "nbconvert_exporter": "python",
   "pygments_lexer": "ipython3",
   "version": "3.6.10"
  }
 },
 "nbformat": 4,
 "nbformat_minor": 2
}
