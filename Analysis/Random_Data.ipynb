{
 "cells": [
  {
   "cell_type": "code",
   "execution_count": 2,
   "metadata": {
    "collapsed": true
   },
   "outputs": [],
   "source": [
    "import numpy as np\n",
    "import matplotlib.pyplot as plt\n",
    "import matplotlib\n",
    "matplotlib.rcParams['pdf.fonttype'] = 42\n",
    "matplotlib.rcParams['ps.fonttype'] = 42\n",
    "from os import path\n",
    "\n",
    "NUMSTRATS = 11\n",
    "MAX_ITER = 10\n",
    "T = 1000\n",
    "NUM_DATASETS = 20"
   ]
  },
  {
   "cell_type": "code",
   "execution_count": 4,
   "metadata": {},
   "outputs": [
    {
     "name": "stdout",
     "output_type": "stream",
     "text": [
      "BestResponse [467.39385 448.22345 469.0121  266.3831  257.1379  260.16335 105.9581\n",
      "   1.184  ]\n",
      "fplue [470.62885 482.23465 440.96395 297.22225 267.1916  283.1032  149.7418\n",
      "  17.4171 ]\n",
      "stackelberg [484.9832  456.9581  435.65535 279.8868  255.91655 271.0993  150.4246\n",
      "   4.89315]\n",
      "random [532.10035 457.56715 447.91895 358.80035 239.90525 275.7899  132.35065\n",
      "   5.441  ]\n",
      "QuantalResponse [478.5642  450.2638  456.91365 333.7031  259.7111  262.51115 183.1552\n",
      "   0.8494 ]\n",
      "ProbsResponse [480.13615 446.546   456.4857  346.02435 271.7735  257.6583  147.10555\n",
      "  -2.4484 ]\n"
     ]
    }
   ],
   "source": [
    "directory = '../Data/output/general_sum/'\n",
    "attacker_list = ['BestResponse', 'fplue', 'stackelberg', 'random', 'QuantalResponse', 'ProbsResponse']\n",
    "strategies = ['FPLMaxMin', 'FPLMTD', 'S-OPT', 'RobustRL', 'Exp3', 'BSS-Q', 'P-Exp3', 'S-Exp3', 'FPL+GR', 'BiasedASLR']\n",
    "strategies_small = ['FPLMaxMin', 'FPLMTD', 'S-OPT', 'RobustRL', 'BSS-Q', 'S-Exp3', 'FPL+GR', 'BiasedASLR']\n",
    "order_small = [4, 2, 0, 1, 3, 5, 6, 7]\n",
    "\n",
    "for attacker in attacker_list:\n",
    "    util = np.array([[0.0]*NUM_DATASETS for i in range(NUMSTRATS)])\n",
    "    for dataset_num in range(NUM_DATASETS): \n",
    "        file = directory + str(dataset_num+1) +'overall_out_' + attacker +'.txt'\n",
    "        if(path.isfile(file)):    \n",
    "            output_file = open(file, \"r\")\n",
    "            data = output_file.readlines()\n",
    "            for i in range(NUMSTRATS):\n",
    "                util[i, dataset_num] = float(data[34+i].split(' ')[0])\n",
    "        else:\n",
    "            util[:, dataset_num] = np.NaN\n",
    "\n",
    "    util_new = np.array([[0.0]*NUM_DATASETS for i in range(len(strategies_small))]) \n",
    "    count = 0\n",
    "    for i in range(NUMSTRATS):\n",
    "        if(i in [3, 5, 7]):\n",
    "            continue\n",
    "        util_new[count, :] = util[i, :] - util[3, :]\n",
    "        count += 1\n",
    "\n",
    "#     print(util_new)\n",
    "    err = [0.0]*len(strategies_small)\n",
    "    for i in range(len(strategies_small)):\n",
    "        err[i] = np.nanstd(util_new[i, :])/(NUM_DATASETS - np.sqrt(np.count_nonzero(np.isnan(util_new[i, :]))))\n",
    "#         print(np.count_nonzero(np.isnan(util_new[i, :])))\n",
    "    y = np.nanmean(util_new, axis = 1)\n",
    "    print(attacker, y)\n",
    "    index = range(len(strategies_small))\n",
    "    plt.clf()\n",
    "    plt.bar(index, [y[order_small[i]] for i in range(len(strategies_small))], yerr = [err[order_small[i]] for i in range(len(strategies_small))], color = ['grey', 'grey', 'red', 'red', 'grey', 'grey'])\n",
    "    plt.xticks(index, [strategies_small[order_small[i]] for i in range(len(strategies_small))], fontsize = 10, weight = 'bold', rotation =30)  \n",
    "    plt.ylabel(\"Performance\", weight = \"bold\", fontsize = 10)\n",
    "    plt.savefig('../Graphs/generalsum_'+attacker+'.pdf', format = 'pdf', bbox_inches = 'tight')\n",
    "    \n"
   ]
  },
  {
   "cell_type": "code",
   "execution_count": 5,
   "metadata": {},
   "outputs": [
    {
     "name": "stdout",
     "output_type": "stream",
     "text": [
      "BestResponse [454.4481  436.74355 456.85285 246.59945 162.105   253.2883   68.54345\n",
      "   1.05535]\n",
      "fplue [434.9042  418.46705 420.1492  257.308    81.139   284.06285 138.49395\n",
      " -12.4646 ]\n",
      "stackelberg [475.9768  440.13135 461.59395 255.0971  130.46545 263.4806   74.59845\n",
      "   1.91685]\n",
      "random [526.7911  450.3779  486.93425 351.9123  139.65535 272.90275 128.35055\n",
      "   9.02595]\n",
      "QuantalResponse [473.95585 445.35195 467.4946  336.97    110.2785  258.2828  180.6521\n",
      "   5.48425]\n",
      "ProbsResponse [474.17    443.7883  464.98485 339.675   126.39895 258.0938  144.13635\n",
      "   2.2856 ]\n"
     ]
    }
   ],
   "source": [
    "directory = '../Data/output/zero_sum/'\n",
    "attacker_list = ['BestResponse', 'fplue', 'stackelberg', 'random', 'QuantalResponse', 'ProbsResponse']\n",
    "strategies = ['FPLMaxMin', 'FPLMTD', 'S-OPT', 'RobustRL', 'Exp3', 'BSS-Q', 'P-Exp3', 'S-Exp3', 'FPL+GR', 'BiasedASLR']\n",
    "strategies_small = ['FPLMaxMin', 'FPLMTD', 'S-OPT', 'RobustRL', 'BSS-Q', 'S-Exp3', 'FPL+GR', 'BiasedASLR']\n",
    "order_small = [4, 2, 0, 1, 3, 5, 6, 7]\n",
    "\n",
    "for attacker in attacker_list:\n",
    "    util = np.array([[0.0]*NUM_DATASETS for i in range(NUMSTRATS)])\n",
    "    for dataset_num in range(NUM_DATASETS): \n",
    "        file = directory + str(dataset_num+1) +'overall_out_' + attacker +'.txt'\n",
    "        if(path.isfile(file)):    \n",
    "            output_file = open(file, \"r\")\n",
    "            data = output_file.readlines()\n",
    "            for i in range(NUMSTRATS):\n",
    "                util[i, dataset_num] = float(data[34+i].split(' ')[0])\n",
    "        else:\n",
    "            util[:, dataset_num] = np.NaN\n",
    "\n",
    "    util_new = np.array([[0.0]*NUM_DATASETS for i in range(len(strategies_small))]) \n",
    "    count = 0\n",
    "    for i in range(NUMSTRATS):\n",
    "        if(i in [3, 5, 7]):\n",
    "            continue\n",
    "        util_new[count, :] = util[i, :] - util[3, :]\n",
    "        count += 1\n",
    "\n",
    "    # print(util_new)\n",
    "    err = [0.0]*len(strategies_small)\n",
    "    \n",
    "    for i in range(len(strategies_small)):\n",
    "        err[i] = np.nanstd(util_new[i, :])/(NUM_DATASETS - np.sqrt(np.count_nonzero(np.isnan(util_new[i, :]))))\n",
    "#     print(err)\n",
    "    y = np.nanmean(util_new, axis = 1)\n",
    "    print(attacker, y)\n",
    "    index = range(len(strategies_small))\n",
    "    plt.clf()\n",
    "    plt.bar(index, [y[order_small[i]] for i in range(len(strategies_small))], yerr = [err[order_small[i]] for i in range(len(strategies_small))], color = ['grey', 'grey', 'red', 'red', 'grey', 'grey'])\n",
    "    plt.xticks(index, [strategies_small[order_small[i]] for i in range(len(strategies_small))], fontsize = 10, weight = 'bold', rotation =30)  \n",
    "    plt.ylabel(\"Performance\", weight = \"bold\", fontsize = 10)\n",
    "    plt.savefig('../Graphs/zerosum_'+attacker+'.pdf', format = 'pdf', bbox_inches = 'tight')"
   ]
  },
  {
   "cell_type": "code",
   "execution_count": 6,
   "metadata": {},
   "outputs": [
    {
     "name": "stdout",
     "output_type": "stream",
     "text": [
      "BestResponse [4.6080010e+02 4.4545200e+02 4.6351595e+02 2.0549525e+02 3.2618490e+02\n",
      " 2.5801180e+02 8.6851100e+01 1.9970000e-01]\n",
      "fplue [473.94275 450.51895 472.55895 260.2924  348.23495 272.07975 125.38125\n",
      "   8.6569 ]\n",
      "stackelberg [4.6109590e+02 4.4539880e+02 4.6407085e+02 2.1782035e+02 3.1632335e+02\n",
      " 2.5668205e+02 8.5550300e+01 4.2200000e-02]\n",
      "random [4.7105020e+02 4.4915720e+02 4.6215270e+02 3.0284400e+02 3.4839575e+02\n",
      " 2.6158280e+02 1.5153885e+02 9.4250000e-02]\n",
      "QuantalResponse [466.29745 450.8823  462.9507  316.3503  333.32945 261.34965 185.17765\n",
      "   2.14715]\n",
      "ProbsResponse [466.8641  447.72535 461.94175 297.8648  323.64995 258.23125 126.44875\n",
      "  -1.4966 ]\n"
     ]
    }
   ],
   "source": [
    "directory = '../Data/output/general_sum/'\n",
    "attacker_list = ['BestResponse', 'fplue', 'stackelberg', 'random', 'QuantalResponse', 'ProbsResponse']\n",
    "strategies = ['FPLMaxMin', 'FPLMTD', 'S-OPT', 'RobustRL', 'Exp3', 'BSS-Q', 'P-Exp3', 'S-Exp3', 'FPL+GR', 'BiasedASLR']\n",
    "strategies_small = ['FPLMaxMin', 'FPLMTD', 'S-OPT', 'RobustRL', 'BSS-Q', 'S-Exp3', 'FPL+GR', 'BiasedASLR']\n",
    "order_small = [4, 2, 0, 1, 3, 5, 6, 7]\n",
    "\n",
    "for attacker in attacker_list:\n",
    "    util = np.array([[0.0]*NUM_DATASETS for i in range(NUMSTRATS)])\n",
    "    for dataset_num in range(NUM_DATASETS): \n",
    "        file = directory + str(dataset_num+101) +'overall_out_' + attacker +'.txt'\n",
    "        if(path.isfile(file)):    \n",
    "            output_file = open(file, \"r\")\n",
    "            data = output_file.readlines()\n",
    "            for i in range(NUMSTRATS):\n",
    "                util[i, dataset_num] = float(data[34+i].split(' ')[0])\n",
    "        else:\n",
    "            util[:, dataset_num] = np.NaN\n",
    "\n",
    "    util_new = np.array([[0.0]*NUM_DATASETS for i in range(len(strategies_small))]) \n",
    "    count = 0\n",
    "    for i in range(NUMSTRATS):\n",
    "        if(i in [3, 5, 7]):\n",
    "            continue\n",
    "        util_new[count, :] = util[i, :] - util[3, :]\n",
    "        count += 1\n",
    "\n",
    "#     print(util_new)\n",
    "    err = [0.0]*len(strategies_small)\n",
    "    for i in range(len(strategies_small)):\n",
    "        err[i] = np.nanstd(util_new[i, :])/(NUM_DATASETS - np.sqrt(np.count_nonzero(np.isnan(util_new[i, :]))))\n",
    "#         print(np.count_nonzero(np.isnan(util_new[i, :])))\n",
    "    y = np.nanmean(util_new, axis = 1)\n",
    "    print(attacker, y)\n",
    "    index = range(len(strategies_small))\n",
    "    plt.clf()\n",
    "    plt.bar(index, [y[order_small[i]] for i in range(len(strategies_small))], yerr = [err[order_small[i]] for i in range(len(strategies_small))], color = ['grey', 'grey', 'red', 'red', 'grey', 'grey'])\n",
    "    plt.xticks(index, [strategies_small[order_small[i]] for i in range(len(strategies_small))], fontsize = 10, weight = 'bold', rotation =30)  \n",
    "    plt.ylabel(\"Performance\", weight = \"bold\", fontsize = 10)\n",
    "    plt.savefig('../Graphs/nvdlarge_'+attacker+'.pdf', format = 'pdf', bbox_inches = 'tight')"
   ]
  },
  {
   "cell_type": "code",
   "execution_count": 2,
   "metadata": {},
   "outputs": [
    {
     "name": "stdout",
     "output_type": "stream",
     "text": [
      "[444.4964  462.64545 206.13405 297.8459  256.9429   87.4523 ]\n",
      "[452.46205 455.86275 274.47205 317.4425  269.2181  108.94945]\n",
      "[448.07965 457.00755 218.95965 316.4724  263.8501   95.2694 ]\n",
      "[449.5786  461.12185 309.23635 312.2297  260.716   150.93745]\n"
     ]
    }
   ],
   "source": [
    "directory = '../Data/output/general_sum/'\n",
    "attacker_list = ['BestResponse', 'fplue', 'stackelberg','random']\n",
    "strategies = ['FPLMaxMin', 'FPLMTD', 'S-OPT', 'RobustRL', 'Exp3', 'BSS-Q', 'P-Exp3', 'S-Exp3', 'FPL+GR']\n",
    "strategies_small = [ 'FPLMTD', 'S-OPT', 'RobustRL', 'BSS-Q', 'S-Exp3', 'FPL+GR']\n",
    "order_small = [3, 1, 0, 2, 4, 5]\n",
    "\n",
    "for attacker in attacker_list:\n",
    "    util = np.array([[0.0]*NUM_DATASETS for i in range(NUMSTRATS)])\n",
    "    for dataset_num in range(NUM_DATASETS): \n",
    "        file = directory + str(dataset_num+101) +'overall_out_' + attacker +'.txt'\n",
    "        if(path.isfile(file)):    \n",
    "            output_file = open(file, \"r\")\n",
    "            data = output_file.readlines()\n",
    "            for i in range(NUMSTRATS):\n",
    "                util[i, dataset_num] = float(data[32+i].split(' ')[0])\n",
    "        else:\n",
    "            util[:, dataset_num] = np.NaN\n",
    "\n",
    "    util_new = np.array([[0.0]*NUM_DATASETS for i in range(len(strategies_small))]) \n",
    "    count = 0\n",
    "    for i in range(NUMSTRATS):\n",
    "        if(i in [0, 3, 5, 7]):\n",
    "            continue\n",
    "        util_new[count, :] = util[i, :] - util[3, :]\n",
    "        count += 1\n",
    "\n",
    "#     print(util_new)\n",
    "    err = [0.0]*len(strategies_small)\n",
    "    for i in range(len(strategies_small)):\n",
    "        err[i] = np.nanstd(util_new[i, :])/(NUM_DATASETS - np.sqrt(np.count_nonzero(np.isnan(util_new[i, :]))))\n",
    "#         print(np.count_nonzero(np.isnan(util_new[i, :])))\n",
    "    y = np.nanmean(util_new, axis = 1)\n",
    "    print(y)\n",
    "    index = range(len(strategies_small))\n",
    "    plt.clf()\n",
    "    plt.bar(index, [y[order_small[i]] for i in range(len(strategies_small))], yerr = [err[order_small[i]] for i in range(len(strategies_small))], color = ['grey', 'grey', 'red', 'grey', 'grey', 'grey'])\n",
    "    plt.xticks(index, [strategies_small[order_small[i]] for i in range(len(strategies_small))], fontsize = 10, weight = 'bold', rotation =30)  \n",
    "    plt.ylabel(\"Performance\", weight = \"bold\", fontsize = 10)\n",
    "    plt.savefig('../Graphs/cr_nvd_'+attacker+'.eps', format = 'eps', bbox_inches = 'tight', dpi = 1200)"
   ]
  },
  {
   "cell_type": "code",
   "execution_count": null,
   "metadata": {
    "collapsed": true
   },
   "outputs": [],
   "source": []
  }
 ],
 "metadata": {
  "kernelspec": {
   "display_name": "Python 3",
   "language": "python",
   "name": "python3"
  },
  "language_info": {
   "codemirror_mode": {
    "name": "ipython",
    "version": 3
   },
   "file_extension": ".py",
   "mimetype": "text/x-python",
   "name": "python",
   "nbconvert_exporter": "python",
   "pygments_lexer": "ipython3",
   "version": "3.6.10"
  }
 },
 "nbformat": 4,
 "nbformat_minor": 2
}
